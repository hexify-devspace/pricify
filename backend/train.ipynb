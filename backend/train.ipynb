{
 "cells": [
  {
   "cell_type": "code",
   "execution_count": 45,
   "metadata": {},
   "outputs": [],
   "source": [
    "import pandas as pd\n",
    "import numpy as np\n",
    "import matplotlib.pyplot as plt\n",
    "import tensorflow as tf\n",
    "from keras import Sequential\n",
    "from keras.layers import Dense\n",
    "from keras.optimizers import adam_v2\n",
    "from keras import backend as K\n",
    "from sklearn.compose import make_column_transformer\n",
    "from sklearn.preprocessing import MinMaxScaler, OneHotEncoder\n",
    "from sklearn.metrics import mean_squared_error as msle\n",
    "from sklearn.model_selection import train_test_split\n",
    "from sklearn.compose import make_column_transformer\n",
    "from sklearn.preprocessing import MinMaxScaler, OneHotEncoder\n",
    "\n",
    "rs = 0"
   ]
  },
  {
   "cell_type": "code",
   "execution_count": 46,
   "metadata": {},
   "outputs": [
    {
     "data": {
      "text/html": [
       "<div>\n",
       "<style scoped>\n",
       "    .dataframe tbody tr th:only-of-type {\n",
       "        vertical-align: middle;\n",
       "    }\n",
       "\n",
       "    .dataframe tbody tr th {\n",
       "        vertical-align: top;\n",
       "    }\n",
       "\n",
       "    .dataframe thead th {\n",
       "        text-align: right;\n",
       "    }\n",
       "</style>\n",
       "<table border=\"1\" class=\"dataframe\">\n",
       "  <thead>\n",
       "    <tr style=\"text-align: right;\">\n",
       "      <th></th>\n",
       "      <th>brand</th>\n",
       "      <th>model</th>\n",
       "      <th>vehicle_age</th>\n",
       "      <th>km_driven</th>\n",
       "      <th>fuel_type</th>\n",
       "      <th>transmission_type</th>\n",
       "      <th>mileage</th>\n",
       "      <th>engine</th>\n",
       "      <th>max_power</th>\n",
       "      <th>seats</th>\n",
       "      <th>selling_price</th>\n",
       "      <th>sale_state</th>\n",
       "    </tr>\n",
       "  </thead>\n",
       "  <tbody>\n",
       "    <tr>\n",
       "      <th>0</th>\n",
       "      <td>Maruti</td>\n",
       "      <td>Alto</td>\n",
       "      <td>9</td>\n",
       "      <td>120000</td>\n",
       "      <td>Petrol</td>\n",
       "      <td>0</td>\n",
       "      <td>19.70</td>\n",
       "      <td>796</td>\n",
       "      <td>46.30</td>\n",
       "      <td>5</td>\n",
       "      <td>120000</td>\n",
       "      <td>Gujarat</td>\n",
       "    </tr>\n",
       "    <tr>\n",
       "      <th>1</th>\n",
       "      <td>Hyundai</td>\n",
       "      <td>Grand</td>\n",
       "      <td>5</td>\n",
       "      <td>20000</td>\n",
       "      <td>Petrol</td>\n",
       "      <td>0</td>\n",
       "      <td>18.90</td>\n",
       "      <td>1197</td>\n",
       "      <td>82.00</td>\n",
       "      <td>5</td>\n",
       "      <td>550000</td>\n",
       "      <td>Maharashtra</td>\n",
       "    </tr>\n",
       "    <tr>\n",
       "      <th>2</th>\n",
       "      <td>Hyundai</td>\n",
       "      <td>i20</td>\n",
       "      <td>11</td>\n",
       "      <td>60000</td>\n",
       "      <td>Petrol</td>\n",
       "      <td>0</td>\n",
       "      <td>17.00</td>\n",
       "      <td>1197</td>\n",
       "      <td>80.00</td>\n",
       "      <td>5</td>\n",
       "      <td>215000</td>\n",
       "      <td>Madhya Pradesh</td>\n",
       "    </tr>\n",
       "    <tr>\n",
       "      <th>3</th>\n",
       "      <td>Maruti</td>\n",
       "      <td>Alto</td>\n",
       "      <td>9</td>\n",
       "      <td>37000</td>\n",
       "      <td>Petrol</td>\n",
       "      <td>0</td>\n",
       "      <td>20.92</td>\n",
       "      <td>998</td>\n",
       "      <td>67.10</td>\n",
       "      <td>5</td>\n",
       "      <td>226000</td>\n",
       "      <td>Rajasthan</td>\n",
       "    </tr>\n",
       "    <tr>\n",
       "      <th>4</th>\n",
       "      <td>Ford</td>\n",
       "      <td>Ecosport</td>\n",
       "      <td>6</td>\n",
       "      <td>30000</td>\n",
       "      <td>Diesel</td>\n",
       "      <td>0</td>\n",
       "      <td>22.77</td>\n",
       "      <td>1498</td>\n",
       "      <td>98.59</td>\n",
       "      <td>5</td>\n",
       "      <td>570000</td>\n",
       "      <td>West Bengal</td>\n",
       "    </tr>\n",
       "  </tbody>\n",
       "</table>\n",
       "</div>"
      ],
      "text/plain": [
       "     brand     model  vehicle_age  km_driven fuel_type  transmission_type  \\\n",
       "0   Maruti      Alto            9     120000    Petrol                  0   \n",
       "1  Hyundai     Grand            5      20000    Petrol                  0   \n",
       "2  Hyundai       i20           11      60000    Petrol                  0   \n",
       "3   Maruti      Alto            9      37000    Petrol                  0   \n",
       "4     Ford  Ecosport            6      30000    Diesel                  0   \n",
       "\n",
       "   mileage  engine  max_power  seats  selling_price      sale_state  \n",
       "0    19.70     796      46.30      5         120000         Gujarat  \n",
       "1    18.90    1197      82.00      5         550000     Maharashtra  \n",
       "2    17.00    1197      80.00      5         215000  Madhya Pradesh  \n",
       "3    20.92     998      67.10      5         226000       Rajasthan  \n",
       "4    22.77    1498      98.59      5         570000     West Bengal  "
      ]
     },
     "execution_count": 46,
     "metadata": {},
     "output_type": "execute_result"
    }
   ],
   "source": [
    "data = pd.read_csv('carsaledataset.csv')\n",
    "data = data.drop(['min_cost_price', 'max_cost_price'] , axis=1)\n",
    "data.head()"
   ]
  },
  {
   "cell_type": "code",
   "execution_count": 47,
   "metadata": {},
   "outputs": [
    {
     "name": "stdout",
     "output_type": "stream",
     "text": [
      "Train shape: (13869, 12)\n",
      "Validation shape: (771, 12)\n",
      "Test shape: (771, 12)\n"
     ]
    },
    {
     "data": {
      "text/plain": [
       "count    1.386900e+04\n",
       "mean     7.753544e+05\n",
       "std      9.005910e+05\n",
       "min      4.000000e+04\n",
       "25%      3.800000e+05\n",
       "50%      5.550000e+05\n",
       "75%      8.250000e+05\n",
       "max      3.950000e+07\n",
       "Name: selling_price, dtype: float64"
      ]
     },
     "execution_count": 47,
     "metadata": {},
     "output_type": "execute_result"
    }
   ],
   "source": [
    "train, test = train_test_split(data, test_size=1/20, random_state=rs)\n",
    "train, valid = train_test_split(train, test_size=1/19, random_state=rs)\n",
    "\n",
    "print('Train shape:', train.shape)\n",
    "print('Validation shape:', valid.shape)\n",
    "print('Test shape:', test.shape)\n",
    "train.selling_price.describe()"
   ]
  },
  {
   "cell_type": "code",
   "execution_count": 48,
   "metadata": {},
   "outputs": [
    {
     "data": {
      "text/plain": [
       "Text(0.5, 1.0, 'Price Distribution')"
      ]
     },
     "execution_count": 48,
     "metadata": {},
     "output_type": "execute_result"
    },
    {
     "data": {
      "image/png": "[encoded data removed]",
      "text/plain": [
       "<Figure size 864x432 with 2 Axes>"
      ]
     },
     "metadata": {
      "needs_background": "light"
     },
     "output_type": "display_data"
    }
   ],
   "source": [
    "plt.subplot(1, 2, 1)\n",
    "(train['selling_price']).plot.hist(bins=50, figsize=(12, 6), edgecolor = 'white', range = [0, 5000000])\n",
    "plt.xlabel('price', fontsize=12)\n",
    "plt.title('Price Distribution', fontsize=12)\n",
    "plt.subplot(1, 2, 2)\n",
    "np.log(train['selling_price']+1).plot.hist(bins=50, figsize=(12,6), edgecolor='white')\n",
    "plt.xlabel('log(price+1)', fontsize=12)\n",
    "plt.title('Price Distribution', fontsize=12)"
   ]
  },
  {
   "cell_type": "markdown",
   "metadata": {},
   "source": [
    "We look at what percentage of cars sold were automatic vs manual, then compare the price data for both."
   ]
  },
  {
   "cell_type": "code",
   "execution_count": 49,
   "metadata": {},
   "outputs": [
    {
     "data": {
      "text/plain": [
       "0    0.793424\n",
       "1    0.206576\n",
       "Name: transmission_type, dtype: float64"
      ]
     },
     "execution_count": 49,
     "metadata": {},
     "output_type": "execute_result"
    }
   ],
   "source": [
    "train['transmission_type'].value_counts() / len(train)"
   ]
  },
  {
   "cell_type": "code",
   "execution_count": 50,
   "metadata": {},
   "outputs": [
    {
     "data": {
      "image/png": "[encoded data removed]",
      "text/plain": [
       "<Figure size 1296x576 with 1 Axes>"
      ]
     },
     "metadata": {
      "needs_background": "light"
     },
     "output_type": "display_data"
    }
   ],
   "source": [
    "manualts = train.loc[train['transmission_type'] == 0, 'selling_price']\n",
    "automaticts = train.loc[train['transmission_type'] == 1, 'selling_price']\n",
    "fig, ax = plt.subplots(figsize=(18,8))\n",
    "ax.hist(manualts, color='#8CB4E1', alpha=1.0, bins=50, range = [0, 5000000],\n",
    "       label='Price of manual cars')\n",
    "ax.hist(automaticts, color='#007D00', alpha=0.7, bins=50, range = [0, 5000000],\n",
    "       label='Price of automatic cars')\n",
    "plt.xlabel('price', fontsize=12)\n",
    "plt.ylabel('frequency', fontsize=12)\n",
    "plt.title('Price Distribution by Car Transmission', fontsize=15)\n",
    "plt.tick_params(labelsize=12)\n",
    "plt.legend()\n",
    "plt.show()"
   ]
  },
  {
   "cell_type": "markdown",
   "metadata": {},
   "source": [
    "bingo, the prices are more diverse in terms of automatic cars. let's find their mean"
   ]
  },
  {
   "cell_type": "code",
   "execution_count": 51,
   "metadata": {},
   "outputs": [
    {
     "name": "stdout",
     "output_type": "stream",
     "text": [
      "The average price is 1584531.94 if car is automatic\n",
      "The average price is 564677.02 if car is manual\n"
     ]
    }
   ],
   "source": [
    "print('The average price is {}'.format(round(automaticts.mean(), 2)), 'if car is automatic')\n",
    "print('The average price is {}'.format(round(manualts.mean(), 2)), 'if car is manual')"
   ]
  },
  {
   "cell_type": "code",
   "execution_count": 52,
   "metadata": {},
   "outputs": [
    {
     "data": {
      "image/png": "[encoded data removed]",
      "text/plain": [
       "<Figure size 1296x576 with 1 Axes>"
      ]
     },
     "metadata": {
      "needs_background": "light"
     },
     "output_type": "display_data"
    }
   ],
   "source": [
    "# plot the log curve again\n",
    "\n",
    "fig, ax = plt.subplots(figsize=(18,8))\n",
    "ax.hist(np.log(manualts+1), color='#8CB4E1', alpha=1.0, bins=50,\n",
    "       label='Price when car is manual')\n",
    "ax.hist(np.log(automaticts+1), color='#007D00', alpha=0.7, bins=50,\n",
    "       label='Price when car is automatic')\n",
    "plt.xlabel('log(price+1)', fontsize=12)\n",
    "plt.ylabel('frequency', fontsize=12)\n",
    "plt.title('Price Distribution by Car Transmission', fontsize=15)\n",
    "plt.tick_params(labelsize=12)\n",
    "plt.legend()\n",
    "plt.show()"
   ]
  },
  {
   "cell_type": "code",
   "execution_count": 53,
   "metadata": {},
   "outputs": [],
   "source": [
    "test_new = train.drop(['selling_price'] , axis=1)\n",
    "nrow_train = train.shape[0]\n",
    "y = np.log1p(train[\"selling_price\"])\n",
    "merge: pd.DataFrame = pd.concat([train, test_new])"
   ]
  },
  {
   "cell_type": "code",
   "execution_count": 54,
   "metadata": {},
   "outputs": [],
   "source": [
    "# convert all data to matrices the AI can understand\n",
    "transformer = make_column_transformer(\n",
    "    (MinMaxScaler(), \n",
    "        ['engine', 'mileage', 'seats', \n",
    "         'vehicle_age', 'km_driven', 'max_power']),\n",
    "    (OneHotEncoder(handle_unknown='ignore'), \n",
    "        ['brand', 'model', 'fuel_type', 'sale_state'])\n",
    ")"
   ]
  },
  {
   "cell_type": "code",
   "execution_count": 55,
   "metadata": {},
   "outputs": [],
   "source": [
    "X_train, X_test, y_train, y_test = train_test_split(\n",
    "    test_new, y, test_size=0.05, random_state=42\n",
    ")"
   ]
  },
  {
   "cell_type": "code",
   "execution_count": 56,
   "metadata": {},
   "outputs": [],
   "source": [
    "# Fit\n",
    "transformer.fit(X_train)\n",
    "\n",
    "# Apply the transformation\n",
    "X_train = transformer.transform(X_train)\n",
    "X_test = transformer.transform(X_test)"
   ]
  },
  {
   "cell_type": "markdown",
   "metadata": {},
   "source": [
    "tensorflow doesn't understand that so we turn it back to a numpy array."
   ]
  },
  {
   "cell_type": "code",
   "execution_count": 57,
   "metadata": {},
   "outputs": [
    {
     "data": {
      "text/plain": [
       "array([[0.07800192, 0.55179418, 0.55555556, ..., 0.        , 0.        ,\n",
       "        0.        ],\n",
       "       [0.13525456, 0.46716317, 0.55555556, ..., 0.        , 0.        ,\n",
       "        0.        ],\n",
       "       [0.25936599, 0.34563304, 0.55555556, ..., 0.        , 0.        ,\n",
       "        0.        ],\n",
       "       ...,\n",
       "       [0.08741595, 0.7647258 , 0.55555556, ..., 0.        , 0.        ,\n",
       "        1.        ],\n",
       "       [0.03938521, 1.        , 0.55555556, ..., 0.        , 0.        ,\n",
       "        1.        ],\n",
       "       [0.2309318 , 0.56465809, 0.55555556, ..., 0.        , 0.        ,\n",
       "        0.        ]])"
      ]
     },
     "execution_count": 57,
     "metadata": {},
     "output_type": "execute_result"
    }
   ],
   "source": [
    "X_train.toarray()"
   ]
  },
  {
   "cell_type": "markdown",
   "metadata": {},
   "source": [
    "make an rmse function to see progress"
   ]
  },
  {
   "cell_type": "code",
   "execution_count": 58,
   "metadata": {},
   "outputs": [],
   "source": [
    "def rmse(y_true, y_pred):\n",
    "    return K.sqrt(K.mean(K.square(y_pred - y_true)))"
   ]
  },
  {
   "cell_type": "code",
   "execution_count": 72,
   "metadata": {},
   "outputs": [
    {
     "name": "stdout",
     "output_type": "stream",
     "text": [
      "Epoch 1/175\n",
      "412/412 [==============================] - 1s 1ms/step - loss: 0.8681 - rmse: 0.8677\n",
      "Epoch 2/175\n",
      "412/412 [==============================] - 0s 1ms/step - loss: 0.3014 - rmse: 0.3014\n",
      "Epoch 3/175\n",
      "412/412 [==============================] - 0s 1ms/step - loss: 0.2722 - rmse: 0.2722\n",
      "Epoch 4/175\n",
      "412/412 [==============================] - 0s 1ms/step - loss: 0.2602 - rmse: 0.2602\n",
      "Epoch 5/175\n",
      "412/412 [==============================] - 1s 1ms/step - loss: 0.2573 - rmse: 0.2573\n",
      "Epoch 6/175\n",
      "412/412 [==============================] - 0s 1ms/step - loss: 0.2424 - rmse: 0.2425\n",
      "Epoch 7/175\n",
      "412/412 [==============================] - 0s 1ms/step - loss: 0.2404 - rmse: 0.2404\n",
      "Epoch 8/175\n",
      "412/412 [==============================] - 0s 1ms/step - loss: 0.2314 - rmse: 0.2314\n",
      "Epoch 9/175\n",
      "412/412 [==============================] - 0s 1ms/step - loss: 0.2287 - rmse: 0.2287\n",
      "Epoch 10/175\n",
      "412/412 [==============================] - 1s 1ms/step - loss: 0.2331 - rmse: 0.2331\n",
      "Epoch 11/175\n",
      "412/412 [==============================] - 1s 1ms/step - loss: 0.2304 - rmse: 0.2304\n",
      "Epoch 12/175\n",
      "412/412 [==============================] - 1s 1ms/step - loss: 0.2220 - rmse: 0.2220\n",
      "Epoch 13/175\n",
      "412/412 [==============================] - 1s 1ms/step - loss: 0.2239 - rmse: 0.2239\n",
      "Epoch 14/175\n",
      "412/412 [==============================] - 0s 1ms/step - loss: 0.2315 - rmse: 0.2315\n",
      "Epoch 15/175\n",
      "412/412 [==============================] - 0s 1ms/step - loss: 0.2155 - rmse: 0.2155\n",
      "Epoch 16/175\n",
      "412/412 [==============================] - 0s 1ms/step - loss: 0.2211 - rmse: 0.2211\n",
      "Epoch 17/175\n",
      "412/412 [==============================] - 0s 1ms/step - loss: 0.2092 - rmse: 0.2092\n",
      "Epoch 18/175\n",
      "412/412 [==============================] - 1s 1ms/step - loss: 0.2143 - rmse: 0.2143\n",
      "Epoch 19/175\n",
      "412/412 [==============================] - 1s 1ms/step - loss: 0.2128 - rmse: 0.2128\n",
      "Epoch 20/175\n",
      "412/412 [==============================] - 1s 1ms/step - loss: 0.2070 - rmse: 0.2069\n",
      "Epoch 21/175\n",
      "412/412 [==============================] - 1s 1ms/step - loss: 0.2023 - rmse: 0.2023\n",
      "Epoch 22/175\n",
      "412/412 [==============================] - 1s 1ms/step - loss: 0.2059 - rmse: 0.2059\n",
      "Epoch 23/175\n",
      "412/412 [==============================] - 1s 1ms/step - loss: 0.2046 - rmse: 0.2045\n",
      "Epoch 24/175\n",
      "412/412 [==============================] - 0s 1ms/step - loss: 0.2079 - rmse: 0.2079\n",
      "Epoch 25/175\n",
      "412/412 [==============================] - 1s 1ms/step - loss: 0.2016 - rmse: 0.2017\n",
      "Epoch 26/175\n",
      "412/412 [==============================] - 0s 1ms/step - loss: 0.1994 - rmse: 0.1994\n",
      "Epoch 27/175\n",
      "412/412 [==============================] - 0s 1ms/step - loss: 0.2038 - rmse: 0.2037\n",
      "Epoch 28/175\n",
      "412/412 [==============================] - 1s 1ms/step - loss: 0.2002 - rmse: 0.2002\n",
      "Epoch 29/175\n",
      "412/412 [==============================] - 0s 1ms/step - loss: 0.1960 - rmse: 0.1960\n",
      "Epoch 30/175\n",
      "412/412 [==============================] - 0s 1ms/step - loss: 0.1968 - rmse: 0.1968\n",
      "Epoch 31/175\n",
      "412/412 [==============================] - 0s 1ms/step - loss: 0.2010 - rmse: 0.2010\n",
      "Epoch 32/175\n",
      "412/412 [==============================] - 0s 1ms/step - loss: 0.1994 - rmse: 0.1994\n",
      "Epoch 33/175\n",
      "412/412 [==============================] - 1s 1ms/step - loss: 0.1994 - rmse: 0.1993\n",
      "Epoch 34/175\n",
      "412/412 [==============================] - 1s 1ms/step - loss: 0.1967 - rmse: 0.1967\n",
      "Epoch 35/175\n",
      "412/412 [==============================] - 0s 1ms/step - loss: 0.1923 - rmse: 0.1923\n",
      "Epoch 36/175\n",
      "412/412 [==============================] - 1s 1ms/step - loss: 0.1954 - rmse: 0.1954\n",
      "Epoch 37/175\n",
      "412/412 [==============================] - 0s 1ms/step - loss: 0.1938 - rmse: 0.1938\n",
      "Epoch 38/175\n",
      "412/412 [==============================] - 0s 1ms/step - loss: 0.1945 - rmse: 0.1945\n",
      "Epoch 39/175\n",
      "412/412 [==============================] - 0s 1ms/step - loss: 0.1947 - rmse: 0.1947\n",
      "Epoch 40/175\n",
      "412/412 [==============================] - 0s 1ms/step - loss: 0.1918 - rmse: 0.1919\n",
      "Epoch 41/175\n",
      "412/412 [==============================] - 0s 1ms/step - loss: 0.1889 - rmse: 0.1890\n",
      "Epoch 42/175\n",
      "412/412 [==============================] - 0s 1ms/step - loss: 0.1899 - rmse: 0.1899\n",
      "Epoch 43/175\n",
      "412/412 [==============================] - 0s 1ms/step - loss: 0.1910 - rmse: 0.1910\n",
      "Epoch 44/175\n",
      "412/412 [==============================] - 0s 1ms/step - loss: 0.1948 - rmse: 0.1948\n",
      "Epoch 45/175\n",
      "412/412 [==============================] - 0s 1ms/step - loss: 0.1822 - rmse: 0.1822\n",
      "Epoch 46/175\n",
      "412/412 [==============================] - 0s 1ms/step - loss: 0.1880 - rmse: 0.1880\n",
      "Epoch 47/175\n",
      "412/412 [==============================] - 0s 1ms/step - loss: 0.1901 - rmse: 0.1901\n",
      "Epoch 48/175\n",
      "412/412 [==============================] - 0s 1ms/step - loss: 0.1832 - rmse: 0.1832\n",
      "Epoch 49/175\n",
      "412/412 [==============================] - 1s 1ms/step - loss: 0.1854 - rmse: 0.1854\n",
      "Epoch 50/175\n",
      "412/412 [==============================] - 1s 1ms/step - loss: 0.1872 - rmse: 0.1872\n",
      "Epoch 51/175\n",
      "412/412 [==============================] - 0s 1ms/step - loss: 0.1849 - rmse: 0.1849\n",
      "Epoch 52/175\n",
      "412/412 [==============================] - 0s 1ms/step - loss: 0.1873 - rmse: 0.1873\n",
      "Epoch 53/175\n",
      "412/412 [==============================] - 0s 1ms/step - loss: 0.1818 - rmse: 0.1818\n",
      "Epoch 54/175\n",
      "412/412 [==============================] - 1s 2ms/step - loss: 0.1844 - rmse: 0.1843\n",
      "Epoch 55/175\n",
      "412/412 [==============================] - 0s 1ms/step - loss: 0.1800 - rmse: 0.1800\n",
      "Epoch 56/175\n",
      "412/412 [==============================] - 0s 1ms/step - loss: 0.1827 - rmse: 0.1827\n",
      "Epoch 57/175\n",
      "412/412 [==============================] - 1s 1ms/step - loss: 0.1796 - rmse: 0.1796\n",
      "Epoch 58/175\n",
      "412/412 [==============================] - 1s 1ms/step - loss: 0.1812 - rmse: 0.1811\n",
      "Epoch 59/175\n",
      "412/412 [==============================] - 0s 1ms/step - loss: 0.1803 - rmse: 0.1803\n",
      "Epoch 60/175\n",
      "412/412 [==============================] - 0s 1ms/step - loss: 0.1783 - rmse: 0.1783\n",
      "Epoch 61/175\n",
      "412/412 [==============================] - 0s 1ms/step - loss: 0.1912 - rmse: 0.1912\n",
      "Epoch 62/175\n",
      "412/412 [==============================] - 0s 1ms/step - loss: 0.1798 - rmse: 0.1798\n",
      "Epoch 63/175\n",
      "412/412 [==============================] - 0s 1ms/step - loss: 0.1729 - rmse: 0.1729\n",
      "Epoch 64/175\n",
      "412/412 [==============================] - 0s 1ms/step - loss: 0.1818 - rmse: 0.1818\n",
      "Epoch 65/175\n",
      "412/412 [==============================] - 1s 1ms/step - loss: 0.1805 - rmse: 0.1806\n",
      "Epoch 66/175\n",
      "412/412 [==============================] - 0s 1ms/step - loss: 0.1797 - rmse: 0.1797\n",
      "Epoch 67/175\n",
      "412/412 [==============================] - 0s 1ms/step - loss: 0.1767 - rmse: 0.1767\n",
      "Epoch 68/175\n",
      "412/412 [==============================] - 0s 1ms/step - loss: 0.1774 - rmse: 0.1774\n",
      "Epoch 69/175\n",
      "412/412 [==============================] - 0s 1ms/step - loss: 0.1764 - rmse: 0.1763\n",
      "Epoch 70/175\n",
      "412/412 [==============================] - 0s 1ms/step - loss: 0.1816 - rmse: 0.1816\n",
      "Epoch 71/175\n",
      "412/412 [==============================] - 0s 1ms/step - loss: 0.1785 - rmse: 0.1785\n",
      "Epoch 72/175\n",
      "412/412 [==============================] - 0s 1ms/step - loss: 0.1731 - rmse: 0.1730\n",
      "Epoch 73/175\n",
      "412/412 [==============================] - 0s 1ms/step - loss: 0.1750 - rmse: 0.1751\n",
      "Epoch 74/175\n",
      "412/412 [==============================] - 0s 1ms/step - loss: 0.1772 - rmse: 0.1772\n",
      "Epoch 75/175\n",
      "412/412 [==============================] - 0s 1ms/step - loss: 0.1744 - rmse: 0.1744\n",
      "Epoch 76/175\n",
      "412/412 [==============================] - 0s 1ms/step - loss: 0.1744 - rmse: 0.1744\n",
      "Epoch 77/175\n",
      "412/412 [==============================] - 0s 1ms/step - loss: 0.1788 - rmse: 0.1788\n",
      "Epoch 78/175\n",
      "412/412 [==============================] - 0s 1ms/step - loss: 0.1727 - rmse: 0.1727\n",
      "Epoch 79/175\n",
      "412/412 [==============================] - 0s 1ms/step - loss: 0.1710 - rmse: 0.1710\n",
      "Epoch 80/175\n",
      "412/412 [==============================] - 0s 1ms/step - loss: 0.1712 - rmse: 0.1712\n",
      "Epoch 81/175\n",
      "412/412 [==============================] - 0s 1ms/step - loss: 0.1786 - rmse: 0.1786\n",
      "Epoch 82/175\n",
      "412/412 [==============================] - 0s 1ms/step - loss: 0.1683 - rmse: 0.1683\n",
      "Epoch 83/175\n",
      "412/412 [==============================] - 0s 1ms/step - loss: 0.1721 - rmse: 0.1722\n",
      "Epoch 84/175\n",
      "412/412 [==============================] - 0s 1ms/step - loss: 0.1746 - rmse: 0.1746\n",
      "Epoch 85/175\n",
      "412/412 [==============================] - 0s 1ms/step - loss: 0.1728 - rmse: 0.1728\n",
      "Epoch 86/175\n",
      "412/412 [==============================] - 0s 1ms/step - loss: 0.1736 - rmse: 0.1736\n",
      "Epoch 87/175\n",
      "412/412 [==============================] - 0s 1ms/step - loss: 0.1716 - rmse: 0.1716\n",
      "Epoch 88/175\n",
      "412/412 [==============================] - 0s 1ms/step - loss: 0.1690 - rmse: 0.1691\n",
      "Epoch 89/175\n",
      "412/412 [==============================] - 0s 1ms/step - loss: 0.1688 - rmse: 0.1688\n",
      "Epoch 90/175\n",
      "412/412 [==============================] - 0s 1ms/step - loss: 0.1734 - rmse: 0.1734\n",
      "Epoch 91/175\n",
      "412/412 [==============================] - 0s 1ms/step - loss: 0.1731 - rmse: 0.1731\n",
      "Epoch 92/175\n",
      "412/412 [==============================] - 0s 1ms/step - loss: 0.1736 - rmse: 0.1736\n",
      "Epoch 93/175\n",
      "412/412 [==============================] - 0s 1ms/step - loss: 0.1736 - rmse: 0.1736\n",
      "Epoch 94/175\n",
      "412/412 [==============================] - 0s 1ms/step - loss: 0.1668 - rmse: 0.1668\n",
      "Epoch 95/175\n",
      "412/412 [==============================] - 0s 1ms/step - loss: 0.1692 - rmse: 0.1692\n",
      "Epoch 96/175\n",
      "412/412 [==============================] - 0s 1ms/step - loss: 0.1668 - rmse: 0.1667\n",
      "Epoch 97/175\n",
      "412/412 [==============================] - 0s 1ms/step - loss: 0.1709 - rmse: 0.1709\n",
      "Epoch 98/175\n",
      "412/412 [==============================] - 0s 1ms/step - loss: 0.1676 - rmse: 0.1676\n",
      "Epoch 99/175\n",
      "412/412 [==============================] - 0s 1ms/step - loss: 0.1679 - rmse: 0.1679\n",
      "Epoch 100/175\n",
      "412/412 [==============================] - 0s 1ms/step - loss: 0.1650 - rmse: 0.1650\n",
      "Epoch 101/175\n",
      "412/412 [==============================] - 0s 1ms/step - loss: 0.1658 - rmse: 0.1658\n",
      "Epoch 102/175\n",
      "412/412 [==============================] - 0s 1ms/step - loss: 0.1738 - rmse: 0.1738\n",
      "Epoch 103/175\n",
      "412/412 [==============================] - 0s 1ms/step - loss: 0.1663 - rmse: 0.1663\n",
      "Epoch 104/175\n",
      "412/412 [==============================] - 0s 1ms/step - loss: 0.1653 - rmse: 0.1653\n",
      "Epoch 105/175\n",
      "412/412 [==============================] - 0s 1ms/step - loss: 0.1668 - rmse: 0.1668\n",
      "Epoch 106/175\n",
      "412/412 [==============================] - 0s 1ms/step - loss: 0.1678 - rmse: 0.1678\n",
      "Epoch 107/175\n",
      "412/412 [==============================] - 0s 1ms/step - loss: 0.1660 - rmse: 0.1660\n",
      "Epoch 108/175\n",
      "412/412 [==============================] - 0s 1ms/step - loss: 0.1639 - rmse: 0.1639\n",
      "Epoch 109/175\n",
      "412/412 [==============================] - 0s 1ms/step - loss: 0.1693 - rmse: 0.1693\n",
      "Epoch 110/175\n",
      "412/412 [==============================] - 0s 1ms/step - loss: 0.1676 - rmse: 0.1676\n",
      "Epoch 111/175\n",
      "412/412 [==============================] - 0s 1ms/step - loss: 0.1659 - rmse: 0.1659\n",
      "Epoch 112/175\n",
      "412/412 [==============================] - 0s 1ms/step - loss: 0.1646 - rmse: 0.1646\n",
      "Epoch 113/175\n",
      "412/412 [==============================] - 0s 1ms/step - loss: 0.1641 - rmse: 0.1641\n",
      "Epoch 114/175\n",
      "412/412 [==============================] - 0s 1ms/step - loss: 0.1658 - rmse: 0.1658\n",
      "Epoch 115/175\n",
      "412/412 [==============================] - 0s 1ms/step - loss: 0.1642 - rmse: 0.1643\n",
      "Epoch 116/175\n",
      "412/412 [==============================] - 0s 1ms/step - loss: 0.1653 - rmse: 0.1653\n",
      "Epoch 117/175\n",
      "412/412 [==============================] - 0s 1ms/step - loss: 0.1654 - rmse: 0.1654\n",
      "Epoch 118/175\n",
      "412/412 [==============================] - 0s 1ms/step - loss: 0.1633 - rmse: 0.1633\n",
      "Epoch 119/175\n",
      "412/412 [==============================] - 0s 1ms/step - loss: 0.1634 - rmse: 0.1633\n",
      "Epoch 120/175\n",
      "412/412 [==============================] - 0s 1ms/step - loss: 0.1643 - rmse: 0.1643\n",
      "Epoch 121/175\n",
      "412/412 [==============================] - 0s 1ms/step - loss: 0.1620 - rmse: 0.1620\n",
      "Epoch 122/175\n",
      "412/412 [==============================] - 0s 1ms/step - loss: 0.1619 - rmse: 0.1619\n",
      "Epoch 123/175\n",
      "412/412 [==============================] - 0s 1ms/step - loss: 0.1642 - rmse: 0.1642\n",
      "Epoch 124/175\n",
      "412/412 [==============================] - 0s 1ms/step - loss: 0.1645 - rmse: 0.1646\n",
      "Epoch 125/175\n",
      "412/412 [==============================] - 1s 1ms/step - loss: 0.1644 - rmse: 0.1644\n",
      "Epoch 126/175\n",
      "412/412 [==============================] - 0s 1ms/step - loss: 0.1647 - rmse: 0.1647\n",
      "Epoch 127/175\n",
      "412/412 [==============================] - 0s 1ms/step - loss: 0.1625 - rmse: 0.1625\n",
      "Epoch 128/175\n",
      "412/412 [==============================] - 0s 1ms/step - loss: 0.1633 - rmse: 0.1633\n",
      "Epoch 129/175\n",
      "412/412 [==============================] - 1s 1ms/step - loss: 0.1611 - rmse: 0.1612\n",
      "Epoch 130/175\n",
      "412/412 [==============================] - 0s 1ms/step - loss: 0.1637 - rmse: 0.1637\n",
      "Epoch 131/175\n",
      "412/412 [==============================] - 0s 1ms/step - loss: 0.1590 - rmse: 0.1590\n",
      "Epoch 132/175\n",
      "412/412 [==============================] - 0s 1ms/step - loss: 0.1589 - rmse: 0.1590\n",
      "Epoch 133/175\n",
      "412/412 [==============================] - 1s 1ms/step - loss: 0.1675 - rmse: 0.1675\n",
      "Epoch 134/175\n",
      "412/412 [==============================] - 0s 1ms/step - loss: 0.1599 - rmse: 0.1599\n",
      "Epoch 135/175\n",
      "412/412 [==============================] - 0s 1ms/step - loss: 0.1595 - rmse: 0.1595\n",
      "Epoch 136/175\n",
      "412/412 [==============================] - 0s 1ms/step - loss: 0.1606 - rmse: 0.1606\n",
      "Epoch 137/175\n",
      "412/412 [==============================] - 0s 1ms/step - loss: 0.1597 - rmse: 0.1597\n",
      "Epoch 138/175\n",
      "412/412 [==============================] - 0s 1ms/step - loss: 0.1611 - rmse: 0.1611\n",
      "Epoch 139/175\n",
      "412/412 [==============================] - 0s 1ms/step - loss: 0.1606 - rmse: 0.1606\n",
      "Epoch 140/175\n",
      "412/412 [==============================] - 0s 1ms/step - loss: 0.1593 - rmse: 0.1593\n",
      "Epoch 141/175\n",
      "412/412 [==============================] - 0s 1ms/step - loss: 0.1586 - rmse: 0.1586\n",
      "Epoch 142/175\n",
      "412/412 [==============================] - 0s 1ms/step - loss: 0.1615 - rmse: 0.1615\n",
      "Epoch 143/175\n",
      "412/412 [==============================] - 0s 1ms/step - loss: 0.1638 - rmse: 0.1637\n",
      "Epoch 144/175\n",
      "412/412 [==============================] - 0s 1ms/step - loss: 0.1591 - rmse: 0.1591\n",
      "Epoch 145/175\n",
      "412/412 [==============================] - 0s 1ms/step - loss: 0.1574 - rmse: 0.1574\n",
      "Epoch 146/175\n",
      "412/412 [==============================] - 0s 1ms/step - loss: 0.1602 - rmse: 0.1602\n",
      "Epoch 147/175\n",
      "412/412 [==============================] - 0s 1ms/step - loss: 0.1558 - rmse: 0.1558\n",
      "Epoch 148/175\n",
      "412/412 [==============================] - 0s 1ms/step - loss: 0.1601 - rmse: 0.1601\n",
      "Epoch 149/175\n",
      "412/412 [==============================] - 0s 1ms/step - loss: 0.1572 - rmse: 0.1572\n",
      "Epoch 150/175\n",
      "412/412 [==============================] - 0s 1ms/step - loss: 0.1604 - rmse: 0.1604\n",
      "Epoch 151/175\n",
      "412/412 [==============================] - 0s 1ms/step - loss: 0.1605 - rmse: 0.1605\n",
      "Epoch 152/175\n",
      "412/412 [==============================] - 0s 1ms/step - loss: 0.1572 - rmse: 0.1572\n",
      "Epoch 153/175\n",
      "412/412 [==============================] - 0s 1ms/step - loss: 0.1565 - rmse: 0.1565\n",
      "Epoch 154/175\n",
      "412/412 [==============================] - 0s 1ms/step - loss: 0.1617 - rmse: 0.1617\n",
      "Epoch 155/175\n",
      "412/412 [==============================] - 0s 1ms/step - loss: 0.1561 - rmse: 0.1561\n",
      "Epoch 156/175\n",
      "412/412 [==============================] - 0s 1ms/step - loss: 0.1563 - rmse: 0.1563\n",
      "Epoch 157/175\n",
      "412/412 [==============================] - 0s 1ms/step - loss: 0.1616 - rmse: 0.1617\n",
      "Epoch 158/175\n",
      "412/412 [==============================] - 0s 1ms/step - loss: 0.1567 - rmse: 0.1567\n",
      "Epoch 159/175\n",
      "412/412 [==============================] - 0s 1ms/step - loss: 0.1563 - rmse: 0.1563\n",
      "Epoch 160/175\n",
      "412/412 [==============================] - 0s 1ms/step - loss: 0.1568 - rmse: 0.1568\n",
      "Epoch 161/175\n",
      "412/412 [==============================] - 0s 1ms/step - loss: 0.1585 - rmse: 0.1585\n",
      "Epoch 162/175\n",
      "412/412 [==============================] - 0s 1ms/step - loss: 0.1599 - rmse: 0.1599\n",
      "Epoch 163/175\n",
      "412/412 [==============================] - 0s 1ms/step - loss: 0.1555 - rmse: 0.1555\n",
      "Epoch 164/175\n",
      "412/412 [==============================] - 0s 1ms/step - loss: 0.1624 - rmse: 0.1624\n",
      "Epoch 165/175\n",
      "412/412 [==============================] - 0s 1ms/step - loss: 0.1576 - rmse: 0.1576\n",
      "Epoch 166/175\n",
      "412/412 [==============================] - 0s 1ms/step - loss: 0.1553 - rmse: 0.1553\n",
      "Epoch 167/175\n",
      "412/412 [==============================] - 0s 1ms/step - loss: 0.1574 - rmse: 0.1574\n",
      "Epoch 168/175\n",
      "412/412 [==============================] - 0s 1ms/step - loss: 0.1554 - rmse: 0.1554\n",
      "Epoch 169/175\n",
      "412/412 [==============================] - 0s 1ms/step - loss: 0.1559 - rmse: 0.1559\n",
      "Epoch 170/175\n",
      "412/412 [==============================] - 0s 1ms/step - loss: 0.1556 - rmse: 0.1556\n",
      "Epoch 171/175\n",
      "412/412 [==============================] - 1s 1ms/step - loss: 0.1562 - rmse: 0.1562\n",
      "Epoch 172/175\n",
      "412/412 [==============================] - 0s 1ms/step - loss: 0.1585 - rmse: 0.1585\n",
      "Epoch 173/175\n",
      "412/412 [==============================] - 0s 1ms/step - loss: 0.1555 - rmse: 0.1555\n",
      "Epoch 174/175\n",
      "412/412 [==============================] - 0s 1ms/step - loss: 0.1544 - rmse: 0.1544\n",
      "Epoch 175/175\n",
      "412/412 [==============================] - 0s 1ms/step - loss: 0.1545 - rmse: 0.1545\n"
     ]
    },
    {
     "data": {
      "text/plain": [
       "<keras.callbacks.History at 0x1e9761eb820>"
      ]
     },
     "execution_count": 72,
     "metadata": {},
     "output_type": "execute_result"
    }
   ],
   "source": [
    "tf.random.set_seed(0)\n",
    "\n",
    "model = Sequential([\n",
    "    Dense(256, activation='relu'),\n",
    "    Dense(256, activation='relu'),\n",
    "    Dense(128, activation='relu'),\n",
    "    Dense(1)\n",
    "])\n",
    "\n",
    "model.compile(\n",
    "    loss=rmse,\n",
    "    optimizer='Adam',\n",
    "    metrics=[rmse]\n",
    ")\n",
    "\n",
    "model.fit(X_train.toarray(), y_train, epochs=175)"
   ]
  },
  {
   "cell_type": "code",
   "execution_count": 73,
   "metadata": {},
   "outputs": [
    {
     "name": "stdout",
     "output_type": "stream",
     "text": [
      "INFO:tensorflow:Assets written to: ./tensorflow\\assets\n"
     ]
    }
   ],
   "source": [
    "model.save('./tensorflow')"
   ]
  },
  {
   "cell_type": "code",
   "execution_count": 76,
   "metadata": {},
   "outputs": [
    {
     "data": {
      "text/plain": [
       "array([[12.447054 ],\n",
       "       [13.504819 ],\n",
       "       [13.6219225],\n",
       "       [13.496329 ],\n",
       "       [12.693726 ]], dtype=float32)"
      ]
     },
     "execution_count": 76,
     "metadata": {},
     "output_type": "execute_result"
    }
   ],
   "source": [
    "predictions = model.predict(X_test)\n",
    "predictions[:5]"
   ]
  }
 ],
 "metadata": {
  "interpreter": {
   "hash": "b3ba2566441a7c06988d0923437866b63cedc61552a5af99d1f4fb67d367b25f"
  },
  "kernelspec": {
   "display_name": "Python 3.8.8 ('base')",
   "language": "python",
   "name": "python3"
  },
  "language_info": {
   "codemirror_mode": {
    "name": "ipython",
    "version": 3
   },
   "file_extension": ".py",
   "mimetype": "text/x-python",
   "name": "python",
   "nbconvert_exporter": "python",
   "pygments_lexer": "ipython3",
   "version": "3.9.12"
  },
  "orig_nbformat": 4
 },
 "nbformat": 4,
 "nbformat_minor": 2
}
