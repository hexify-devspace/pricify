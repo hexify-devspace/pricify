{
 "cells": [
  {
   "cell_type": "code",
   "execution_count": 23,
   "metadata": {},
   "outputs": [],
   "source": [
    "import pandas as pd\n",
    "import numpy as np\n",
    "import os\n",
    "import matplotlib.pyplot as plt\n",
    "import tensorflow as tf\n",
    "from pathlib import Path\n",
    "from tensorflow import keras\n",
    "from keras import Sequential\n",
    "from keras.layers import Dense\n",
    "from keras.optimizers import adam_v2\n",
    "from keras import backend as K\n",
    "from sklearn.compose import make_column_transformer\n",
    "from sklearn.preprocessing import MinMaxScaler, OneHotEncoder\n",
    "from sklearn.metrics import mean_squared_error as msle\n",
    "from sklearn.model_selection import train_test_split\n",
    "from sklearn.compose import make_column_transformer\n",
    "from sklearn.preprocessing import MinMaxScaler, OneHotEncoder\n",
    "\n",
    "rs = np.random.randint(0, 42)"
   ]
  },
  {
   "cell_type": "code",
   "execution_count": 24,
   "metadata": {},
   "outputs": [
    {
     "data": {
      "text/html": [
       "<div>\n",
       "<style scoped>\n",
       "    .dataframe tbody tr th:only-of-type {\n",
       "        vertical-align: middle;\n",
       "    }\n",
       "\n",
       "    .dataframe tbody tr th {\n",
       "        vertical-align: top;\n",
       "    }\n",
       "\n",
       "    .dataframe thead th {\n",
       "        text-align: right;\n",
       "    }\n",
       "</style>\n",
       "<table border=\"1\" class=\"dataframe\">\n",
       "  <thead>\n",
       "    <tr style=\"text-align: right;\">\n",
       "      <th></th>\n",
       "      <th>brand</th>\n",
       "      <th>model</th>\n",
       "      <th>vehicle_age</th>\n",
       "      <th>km_driven</th>\n",
       "      <th>fuel_type</th>\n",
       "      <th>transmission_type</th>\n",
       "      <th>mileage</th>\n",
       "      <th>engine</th>\n",
       "      <th>max_power</th>\n",
       "      <th>seats</th>\n",
       "      <th>selling_price</th>\n",
       "      <th>sale_state</th>\n",
       "    </tr>\n",
       "  </thead>\n",
       "  <tbody>\n",
       "    <tr>\n",
       "      <th>0</th>\n",
       "      <td>Maruti</td>\n",
       "      <td>Alto</td>\n",
       "      <td>9</td>\n",
       "      <td>120000</td>\n",
       "      <td>Petrol</td>\n",
       "      <td>0</td>\n",
       "      <td>19.70</td>\n",
       "      <td>796</td>\n",
       "      <td>46.30</td>\n",
       "      <td>5</td>\n",
       "      <td>120000</td>\n",
       "      <td>Gujarat</td>\n",
       "    </tr>\n",
       "    <tr>\n",
       "      <th>1</th>\n",
       "      <td>Hyundai</td>\n",
       "      <td>Grand</td>\n",
       "      <td>5</td>\n",
       "      <td>20000</td>\n",
       "      <td>Petrol</td>\n",
       "      <td>0</td>\n",
       "      <td>18.90</td>\n",
       "      <td>1197</td>\n",
       "      <td>82.00</td>\n",
       "      <td>5</td>\n",
       "      <td>550000</td>\n",
       "      <td>Maharashtra</td>\n",
       "    </tr>\n",
       "    <tr>\n",
       "      <th>2</th>\n",
       "      <td>Hyundai</td>\n",
       "      <td>i20</td>\n",
       "      <td>11</td>\n",
       "      <td>60000</td>\n",
       "      <td>Petrol</td>\n",
       "      <td>0</td>\n",
       "      <td>17.00</td>\n",
       "      <td>1197</td>\n",
       "      <td>80.00</td>\n",
       "      <td>5</td>\n",
       "      <td>215000</td>\n",
       "      <td>Madhya Pradesh</td>\n",
       "    </tr>\n",
       "    <tr>\n",
       "      <th>3</th>\n",
       "      <td>Maruti</td>\n",
       "      <td>Alto</td>\n",
       "      <td>9</td>\n",
       "      <td>37000</td>\n",
       "      <td>Petrol</td>\n",
       "      <td>0</td>\n",
       "      <td>20.92</td>\n",
       "      <td>998</td>\n",
       "      <td>67.10</td>\n",
       "      <td>5</td>\n",
       "      <td>226000</td>\n",
       "      <td>Rajasthan</td>\n",
       "    </tr>\n",
       "    <tr>\n",
       "      <th>4</th>\n",
       "      <td>Ford</td>\n",
       "      <td>Ecosport</td>\n",
       "      <td>6</td>\n",
       "      <td>30000</td>\n",
       "      <td>Diesel</td>\n",
       "      <td>0</td>\n",
       "      <td>22.77</td>\n",
       "      <td>1498</td>\n",
       "      <td>98.59</td>\n",
       "      <td>5</td>\n",
       "      <td>570000</td>\n",
       "      <td>West Bengal</td>\n",
       "    </tr>\n",
       "  </tbody>\n",
       "</table>\n",
       "</div>"
      ],
      "text/plain": [
       "     brand     model  vehicle_age  km_driven fuel_type  transmission_type  \\\n",
       "0   Maruti      Alto            9     120000    Petrol                  0   \n",
       "1  Hyundai     Grand            5      20000    Petrol                  0   \n",
       "2  Hyundai       i20           11      60000    Petrol                  0   \n",
       "3   Maruti      Alto            9      37000    Petrol                  0   \n",
       "4     Ford  Ecosport            6      30000    Diesel                  0   \n",
       "\n",
       "   mileage  engine  max_power  seats  selling_price      sale_state  \n",
       "0    19.70     796      46.30      5         120000         Gujarat  \n",
       "1    18.90    1197      82.00      5         550000     Maharashtra  \n",
       "2    17.00    1197      80.00      5         215000  Madhya Pradesh  \n",
       "3    20.92     998      67.10      5         226000       Rajasthan  \n",
       "4    22.77    1498      98.59      5         570000     West Bengal  "
      ]
     },
     "execution_count": 24,
     "metadata": {},
     "output_type": "execute_result"
    }
   ],
   "source": [
    "DATASET_PATH = os.path.join(\"datasets\", \"carsale.csv\")\n",
    "data = pd.read_csv(DATASET_PATH)\n",
    "data = data.drop(['min_cost_price', 'max_cost_price'] , axis=1)\n",
    "data.head()"
   ]
  },
  {
   "cell_type": "code",
   "execution_count": 25,
   "metadata": {},
   "outputs": [
    {
     "name": "stdout",
     "output_type": "stream",
     "text": [
      "Train shape: (13869, 12)\n",
      "Validation shape: (771, 12)\n",
      "Test shape: (771, 12)\n"
     ]
    },
    {
     "data": {
      "text/plain": [
       "count    1.386900e+04\n",
       "mean     7.753544e+05\n",
       "std      9.005910e+05\n",
       "min      4.000000e+04\n",
       "25%      3.800000e+05\n",
       "50%      5.550000e+05\n",
       "75%      8.250000e+05\n",
       "max      3.950000e+07\n",
       "Name: selling_price, dtype: float64"
      ]
     },
     "execution_count": 25,
     "metadata": {},
     "output_type": "execute_result"
    }
   ],
   "source": [
    "train, test = train_test_split(data, test_size=1/20, random_state=rs)\n",
    "train, valid = train_test_split(train, test_size=1/19, random_state=rs)\n",
    "\n",
    "print('Train shape:', train.shape)\n",
    "print('Validation shape:', valid.shape)\n",
    "print('Test shape:', test.shape)\n",
    "train.selling_price.describe()"
   ]
  },
  {
   "cell_type": "code",
   "execution_count": 26,
   "metadata": {},
   "outputs": [
    {
     "data": {
      "text/plain": [
       "Text(0.5, 1.0, 'Price Distribution')"
      ]
     },
     "execution_count": 26,
     "metadata": {},
     "output_type": "execute_result"
    },
    {
     "data": {
      "image/png": "[encoded data removed]",
      "text/plain": [
       "<Figure size 864x432 with 2 Axes>"
      ]
     },
     "metadata": {
      "needs_background": "light"
     },
     "output_type": "display_data"
    }
   ],
   "source": [
    "plt.subplot(1, 2, 1)\n",
    "(train['selling_price']).plot.hist(bins=50, figsize=(12, 6), edgecolor = 'white', range = [0, 5000000])\n",
    "plt.xlabel('price', fontsize=12)\n",
    "plt.title('Price Distribution', fontsize=12)\n",
    "plt.subplot(1, 2, 2)\n",
    "np.log(train['selling_price']+1).plot.hist(bins=50, figsize=(12,6), edgecolor='white')\n",
    "plt.xlabel('log(price+1)', fontsize=12)\n",
    "plt.title('Price Distribution', fontsize=12)"
   ]
  },
  {
   "cell_type": "markdown",
   "metadata": {},
   "source": [
    "We look at what percentage of cars sold were automatic vs manual, then compare the price data for both."
   ]
  },
  {
   "cell_type": "code",
   "execution_count": 27,
   "metadata": {},
   "outputs": [
    {
     "data": {
      "text/plain": [
       "0    0.793424\n",
       "1    0.206576\n",
       "Name: transmission_type, dtype: float64"
      ]
     },
     "execution_count": 27,
     "metadata": {},
     "output_type": "execute_result"
    }
   ],
   "source": [
    "train['transmission_type'].value_counts() / len(train)"
   ]
  },
  {
   "cell_type": "code",
   "execution_count": 28,
   "metadata": {},
   "outputs": [
    {
     "data": {
      "image/png": "[encoded data removed]",
      "text/plain": [
       "<Figure size 1296x576 with 1 Axes>"
      ]
     },
     "metadata": {
      "needs_background": "light"
     },
     "output_type": "display_data"
    }
   ],
   "source": [
    "manualts = train.loc[train['transmission_type'] == 0, 'selling_price']\n",
    "automaticts = train.loc[train['transmission_type'] == 1, 'selling_price']\n",
    "fig, ax = plt.subplots(figsize=(18,8))\n",
    "ax.hist(manualts, color='#8DB4E2', alpha=1.0, bins=50, range = [0, 5000000],\n",
    "       label='Price of manual cars')\n",
    "ax.hist(automaticts, color='#008D01', alpha=0.7, bins=50, range = [0, 5000000],\n",
    "       label='Price of automatic cars')\n",
    "plt.xlabel('price', fontsize=12)\n",
    "plt.ylabel('frequency', fontsize=12)\n",
    "plt.title('Price Distribution by Car Transmission', fontsize=15)\n",
    "plt.tick_params(labelsize=12)\n",
    "plt.legend()\n",
    "plt.show()"
   ]
  },
  {
   "cell_type": "markdown",
   "metadata": {},
   "source": [
    "bingo, the prices are more diverse in terms of automatic cars. let's find their mean"
   ]
  },
  {
   "cell_type": "code",
   "execution_count": 29,
   "metadata": {},
   "outputs": [
    {
     "name": "stdout",
     "output_type": "stream",
     "text": [
      "The average price is 1584531.94 if car is automatic\n",
      "The average price is 564677.02 if car is manual\n"
     ]
    }
   ],
   "source": [
    "print('The average price is {}'.format(round(automaticts.mean(), 2)), 'if car is automatic')\n",
    "print('The average price is {}'.format(round(manualts.mean(), 2)), 'if car is manual')"
   ]
  },
  {
   "cell_type": "code",
   "execution_count": 30,
   "metadata": {},
   "outputs": [
    {
     "data": {
      "image/png": "[encoded data removed]",
      "text/plain": [
       "<Figure size 1296x576 with 1 Axes>"
      ]
     },
     "metadata": {
      "needs_background": "light"
     },
     "output_type": "display_data"
    }
   ],
   "source": [
    "# plot the log curve again\n",
    "\n",
    "fig, ax = plt.subplots(figsize=(18,8))\n",
    "ax.hist(np.log(manualts+1), color='#8CB4E1', alpha=1.0, bins=50,\n",
    "       label='Price when car is manual')\n",
    "ax.hist(np.log(automaticts+1), color='#007D00', alpha=0.7, bins=50,\n",
    "       label='Price when car is automatic')\n",
    "plt.xlabel('log(price+1)', fontsize=12)\n",
    "plt.ylabel('frequency', fontsize=12)\n",
    "plt.title('Price Distribution by Car Transmission', fontsize=15)\n",
    "plt.tick_params(labelsize=12)\n",
    "plt.legend()\n",
    "plt.show()"
   ]
  },
  {
   "cell_type": "code",
   "execution_count": 31,
   "metadata": {},
   "outputs": [],
   "source": [
    "test_new = train.drop(['selling_price'] , axis=1)\n",
    "nrow_train = train.shape[0]\n",
    "y = np.log1p(train[\"selling_price\"])\n",
    "merge: pd.DataFrame = pd.concat([train, test_new])"
   ]
  },
  {
   "cell_type": "code",
   "execution_count": 32,
   "metadata": {},
   "outputs": [],
   "source": [
    "# convert all data to matrices the AI can understand\n",
    "transformer = make_column_transformer(\n",
    "    (MinMaxScaler(), \n",
    "        ['engine', 'mileage', 'seats', \n",
    "         'vehicle_age', 'km_driven', 'max_power']),\n",
    "    (OneHotEncoder(handle_unknown='ignore'), \n",
    "        ['brand', 'model', 'fuel_type', 'sale_state'])\n",
    ")"
   ]
  },
  {
   "cell_type": "code",
   "execution_count": 33,
   "metadata": {},
   "outputs": [],
   "source": [
    "X_train, X_test, y_train, y_test = train_test_split(\n",
    "    test_new, y, test_size=0.05, random_state=rs\n",
    ")"
   ]
  },
  {
   "cell_type": "code",
   "execution_count": 34,
   "metadata": {},
   "outputs": [],
   "source": [
    "# Fit\n",
    "transformer.fit(X_train)\n",
    "\n",
    "# Apply the transformation\n",
    "X_train = transformer.transform(X_train)\n",
    "X_test = transformer.transform(X_test)"
   ]
  },
  {
   "cell_type": "markdown",
   "metadata": {},
   "source": [
    "tensorflow doesn't understand that so we turn it back to a numpy array."
   ]
  },
  {
   "cell_type": "markdown",
   "metadata": {},
   "source": [
    "make an rmse function to see progress"
   ]
  },
  {
   "cell_type": "code",
   "execution_count": 35,
   "metadata": {},
   "outputs": [],
   "source": [
    "def rmse(y_true, y_pred):\n",
    "    return K.sqrt(K.mean(K.square(y_pred - y_true)))"
   ]
  },
  {
   "cell_type": "code",
   "execution_count": 36,
   "metadata": {},
   "outputs": [
    {
     "name": "stdout",
     "output_type": "stream",
     "text": [
      "Epoch 1/175\n",
      "412/412 [==============================] - 1s 944us/step - loss: 0.8701 - rmse: 0.8699\n",
      "Epoch 2/175\n",
      "412/412 [==============================] - 0s 971us/step - loss: 0.3077 - rmse: 0.3076\n",
      "Epoch 3/175\n",
      "412/412 [==============================] - 0s 1ms/step - loss: 0.2754 - rmse: 0.2755\n",
      "Epoch 4/175\n",
      "412/412 [==============================] - 0s 1ms/step - loss: 0.2596 - rmse: 0.2596\n",
      "Epoch 5/175\n",
      "412/412 [==============================] - 0s 966us/step - loss: 0.2500 - rmse: 0.2501\n",
      "Epoch 6/175\n",
      "412/412 [==============================] - 0s 986us/step - loss: 0.2530 - rmse: 0.2530\n",
      "Epoch 7/175\n",
      "412/412 [==============================] - 0s 972us/step - loss: 0.2376 - rmse: 0.2376\n",
      "Epoch 8/175\n",
      "412/412 [==============================] - 0s 956us/step - loss: 0.2456 - rmse: 0.2456\n",
      "Epoch 9/175\n",
      "412/412 [==============================] - 0s 968us/step - loss: 0.2497 - rmse: 0.2497\n",
      "Epoch 10/175\n",
      "412/412 [==============================] - 0s 1ms/step - loss: 0.2332 - rmse: 0.2332\n",
      "Epoch 11/175\n",
      "412/412 [==============================] - 0s 1ms/step - loss: 0.2286 - rmse: 0.2287\n",
      "Epoch 12/175\n",
      "412/412 [==============================] - 0s 1ms/step - loss: 0.2212 - rmse: 0.2212\n",
      "Epoch 13/175\n",
      "412/412 [==============================] - 0s 1ms/step - loss: 0.2218 - rmse: 0.2218\n",
      "Epoch 14/175\n",
      "412/412 [==============================] - 0s 1ms/step - loss: 0.2228 - rmse: 0.2228\n",
      "Epoch 15/175\n",
      "412/412 [==============================] - 0s 1ms/step - loss: 0.2166 - rmse: 0.2166\n",
      "Epoch 16/175\n",
      "412/412 [==============================] - 0s 1ms/step - loss: 0.2170 - rmse: 0.2170\n",
      "Epoch 17/175\n",
      "412/412 [==============================] - 0s 977us/step - loss: 0.2121 - rmse: 0.2121\n",
      "Epoch 18/175\n",
      "412/412 [==============================] - 0s 973us/step - loss: 0.2192 - rmse: 0.2192\n",
      "Epoch 19/175\n",
      "412/412 [==============================] - 0s 968us/step - loss: 0.2166 - rmse: 0.2166\n",
      "Epoch 20/175\n",
      "412/412 [==============================] - 0s 1ms/step - loss: 0.2054 - rmse: 0.2054\n",
      "Epoch 21/175\n",
      "412/412 [==============================] - 0s 1ms/step - loss: 0.2124 - rmse: 0.2124\n",
      "Epoch 22/175\n",
      "412/412 [==============================] - 0s 1000us/step - loss: 0.2087 - rmse: 0.2087\n",
      "Epoch 23/175\n",
      "412/412 [==============================] - 0s 1ms/step - loss: 0.2100 - rmse: 0.2099\n",
      "Epoch 24/175\n",
      "412/412 [==============================] - 0s 1ms/step - loss: 0.2097 - rmse: 0.2096\n",
      "Epoch 25/175\n",
      "412/412 [==============================] - 0s 995us/step - loss: 0.2047 - rmse: 0.2047\n",
      "Epoch 26/175\n",
      "412/412 [==============================] - 0s 1ms/step - loss: 0.1965 - rmse: 0.1964\n",
      "Epoch 27/175\n",
      "412/412 [==============================] - 0s 1ms/step - loss: 0.1990 - rmse: 0.1990\n",
      "Epoch 28/175\n",
      "412/412 [==============================] - 0s 998us/step - loss: 0.2010 - rmse: 0.2010\n",
      "Epoch 29/175\n",
      "412/412 [==============================] - 0s 972us/step - loss: 0.2038 - rmse: 0.2038\n",
      "Epoch 30/175\n",
      "412/412 [==============================] - 0s 978us/step - loss: 0.1965 - rmse: 0.1965\n",
      "Epoch 31/175\n",
      "412/412 [==============================] - 0s 992us/step - loss: 0.1976 - rmse: 0.1976\n",
      "Epoch 32/175\n",
      "412/412 [==============================] - 0s 1ms/step - loss: 0.1947 - rmse: 0.1947\n",
      "Epoch 33/175\n",
      "412/412 [==============================] - 0s 1ms/step - loss: 0.1951 - rmse: 0.1951\n",
      "Epoch 34/175\n",
      "412/412 [==============================] - 0s 1ms/step - loss: 0.1960 - rmse: 0.1960\n",
      "Epoch 35/175\n",
      "412/412 [==============================] - 0s 1ms/step - loss: 0.1961 - rmse: 0.1962\n",
      "Epoch 36/175\n",
      "412/412 [==============================] - 0s 988us/step - loss: 0.1898 - rmse: 0.1898\n",
      "Epoch 37/175\n",
      "412/412 [==============================] - 0s 1ms/step - loss: 0.1949 - rmse: 0.1949\n",
      "Epoch 38/175\n",
      "412/412 [==============================] - 0s 1ms/step - loss: 0.1942 - rmse: 0.1942\n",
      "Epoch 39/175\n",
      "412/412 [==============================] - 0s 1ms/step - loss: 0.1960 - rmse: 0.1960\n",
      "Epoch 40/175\n",
      "412/412 [==============================] - 0s 975us/step - loss: 0.1904 - rmse: 0.1904\n",
      "Epoch 41/175\n",
      "412/412 [==============================] - 0s 976us/step - loss: 0.1874 - rmse: 0.1874\n",
      "Epoch 42/175\n",
      "412/412 [==============================] - 0s 993us/step - loss: 0.1896 - rmse: 0.1896\n",
      "Epoch 43/175\n",
      "412/412 [==============================] - 0s 988us/step - loss: 0.1901 - rmse: 0.1901\n",
      "Epoch 44/175\n",
      "412/412 [==============================] - 0s 1ms/step - loss: 0.1911 - rmse: 0.1911\n",
      "Epoch 45/175\n",
      "412/412 [==============================] - 0s 1ms/step - loss: 0.1907 - rmse: 0.1908\n",
      "Epoch 46/175\n",
      "412/412 [==============================] - 0s 1ms/step - loss: 0.1857 - rmse: 0.1857\n",
      "Epoch 47/175\n",
      "412/412 [==============================] - 0s 1ms/step - loss: 0.1836 - rmse: 0.1837\n",
      "Epoch 48/175\n",
      "412/412 [==============================] - 0s 1ms/step - loss: 0.1845 - rmse: 0.1845\n",
      "Epoch 49/175\n",
      "412/412 [==============================] - 0s 1ms/step - loss: 0.1869 - rmse: 0.1869\n",
      "Epoch 50/175\n",
      "412/412 [==============================] - 0s 1ms/step - loss: 0.1871 - rmse: 0.1871\n",
      "Epoch 51/175\n",
      "412/412 [==============================] - 0s 1ms/step - loss: 0.1836 - rmse: 0.1836\n",
      "Epoch 52/175\n",
      "412/412 [==============================] - 0s 1ms/step - loss: 0.1840 - rmse: 0.1840\n",
      "Epoch 53/175\n",
      "412/412 [==============================] - 0s 1ms/step - loss: 0.1839 - rmse: 0.1840\n",
      "Epoch 54/175\n",
      "412/412 [==============================] - 0s 975us/step - loss: 0.1865 - rmse: 0.1865\n",
      "Epoch 55/175\n",
      "412/412 [==============================] - 0s 993us/step - loss: 0.1835 - rmse: 0.1835\n",
      "Epoch 56/175\n",
      "412/412 [==============================] - 0s 980us/step - loss: 0.1827 - rmse: 0.1827\n",
      "Epoch 57/175\n",
      "412/412 [==============================] - 0s 982us/step - loss: 0.1830 - rmse: 0.1830\n",
      "Epoch 58/175\n",
      "412/412 [==============================] - 0s 992us/step - loss: 0.1829 - rmse: 0.1830\n",
      "Epoch 59/175\n",
      "412/412 [==============================] - 0s 988us/step - loss: 0.1869 - rmse: 0.1869\n",
      "Epoch 60/175\n",
      "412/412 [==============================] - 0s 988us/step - loss: 0.1812 - rmse: 0.1812\n",
      "Epoch 61/175\n",
      "412/412 [==============================] - 0s 1ms/step - loss: 0.1821 - rmse: 0.1821\n",
      "Epoch 62/175\n",
      "412/412 [==============================] - 0s 1ms/step - loss: 0.1832 - rmse: 0.1831\n",
      "Epoch 63/175\n",
      "412/412 [==============================] - 0s 1ms/step - loss: 0.1823 - rmse: 0.1823\n",
      "Epoch 64/175\n",
      "412/412 [==============================] - 0s 1ms/step - loss: 0.1807 - rmse: 0.1807\n",
      "Epoch 65/175\n",
      "412/412 [==============================] - 0s 1ms/step - loss: 0.1795 - rmse: 0.1796\n",
      "Epoch 66/175\n",
      "412/412 [==============================] - 0s 1ms/step - loss: 0.1791 - rmse: 0.1790\n",
      "Epoch 67/175\n",
      "412/412 [==============================] - 0s 1ms/step - loss: 0.1808 - rmse: 0.1808\n",
      "Epoch 68/175\n",
      "412/412 [==============================] - 0s 1ms/step - loss: 0.1763 - rmse: 0.1763\n",
      "Epoch 69/175\n",
      "412/412 [==============================] - 0s 1ms/step - loss: 0.1793 - rmse: 0.1792\n",
      "Epoch 70/175\n",
      "412/412 [==============================] - 0s 1ms/step - loss: 0.1775 - rmse: 0.1775\n",
      "Epoch 71/175\n",
      "412/412 [==============================] - 0s 1ms/step - loss: 0.1762 - rmse: 0.1762\n",
      "Epoch 72/175\n",
      "412/412 [==============================] - 0s 1ms/step - loss: 0.1788 - rmse: 0.1788\n",
      "Epoch 73/175\n",
      "412/412 [==============================] - 0s 1ms/step - loss: 0.1736 - rmse: 0.1736\n",
      "Epoch 74/175\n",
      "412/412 [==============================] - 0s 999us/step - loss: 0.1734 - rmse: 0.1734\n",
      "Epoch 75/175\n",
      "412/412 [==============================] - 0s 1ms/step - loss: 0.1765 - rmse: 0.1766\n",
      "Epoch 76/175\n",
      "412/412 [==============================] - 0s 1ms/step - loss: 0.1775 - rmse: 0.1776\n",
      "Epoch 77/175\n",
      "412/412 [==============================] - 0s 1ms/step - loss: 0.1806 - rmse: 0.1806\n",
      "Epoch 78/175\n",
      "412/412 [==============================] - 0s 1ms/step - loss: 0.1755 - rmse: 0.1755\n",
      "Epoch 79/175\n",
      "412/412 [==============================] - 0s 1ms/step - loss: 0.1765 - rmse: 0.1765\n",
      "Epoch 80/175\n",
      "412/412 [==============================] - 0s 1ms/step - loss: 0.1735 - rmse: 0.1735\n",
      "Epoch 81/175\n",
      "412/412 [==============================] - 0s 1ms/step - loss: 0.1716 - rmse: 0.1716\n",
      "Epoch 82/175\n",
      "412/412 [==============================] - 0s 1ms/step - loss: 0.1727 - rmse: 0.1727\n",
      "Epoch 83/175\n",
      "412/412 [==============================] - 0s 992us/step - loss: 0.1753 - rmse: 0.1753\n",
      "Epoch 84/175\n",
      "412/412 [==============================] - 0s 988us/step - loss: 0.1731 - rmse: 0.1730\n",
      "Epoch 85/175\n",
      "412/412 [==============================] - 0s 990us/step - loss: 0.1730 - rmse: 0.1730\n",
      "Epoch 86/175\n",
      "412/412 [==============================] - 0s 994us/step - loss: 0.1739 - rmse: 0.1739\n",
      "Epoch 87/175\n",
      "412/412 [==============================] - 0s 992us/step - loss: 0.1764 - rmse: 0.1765\n",
      "Epoch 88/175\n",
      "412/412 [==============================] - 0s 983us/step - loss: 0.1705 - rmse: 0.1705\n",
      "Epoch 89/175\n",
      "412/412 [==============================] - 0s 983us/step - loss: 0.1686 - rmse: 0.1686\n",
      "Epoch 90/175\n",
      "412/412 [==============================] - 0s 984us/step - loss: 0.1700 - rmse: 0.1700\n",
      "Epoch 91/175\n",
      "412/412 [==============================] - 0s 975us/step - loss: 0.1707 - rmse: 0.1707\n",
      "Epoch 92/175\n",
      "412/412 [==============================] - 0s 971us/step - loss: 0.1671 - rmse: 0.1671\n",
      "Epoch 93/175\n",
      "412/412 [==============================] - 0s 986us/step - loss: 0.1730 - rmse: 0.1730\n",
      "Epoch 94/175\n",
      "412/412 [==============================] - 0s 995us/step - loss: 0.1752 - rmse: 0.1751\n",
      "Epoch 95/175\n",
      "412/412 [==============================] - 0s 1ms/step - loss: 0.1714 - rmse: 0.1715\n",
      "Epoch 96/175\n",
      "412/412 [==============================] - 0s 1ms/step - loss: 0.1689 - rmse: 0.1689\n",
      "Epoch 97/175\n",
      "412/412 [==============================] - 0s 1ms/step - loss: 0.1694 - rmse: 0.1694\n",
      "Epoch 98/175\n",
      "412/412 [==============================] - 0s 1ms/step - loss: 0.1728 - rmse: 0.1727\n",
      "Epoch 99/175\n",
      "412/412 [==============================] - 0s 1ms/step - loss: 0.1719 - rmse: 0.1719\n",
      "Epoch 100/175\n",
      "412/412 [==============================] - 0s 1ms/step - loss: 0.1700 - rmse: 0.1700\n",
      "Epoch 101/175\n",
      "412/412 [==============================] - 0s 1ms/step - loss: 0.1709 - rmse: 0.1709\n",
      "Epoch 102/175\n",
      "412/412 [==============================] - 0s 999us/step - loss: 0.1735 - rmse: 0.1735\n",
      "Epoch 103/175\n",
      "412/412 [==============================] - 0s 1ms/step - loss: 0.1692 - rmse: 0.1692\n",
      "Epoch 104/175\n",
      "412/412 [==============================] - 0s 1ms/step - loss: 0.1652 - rmse: 0.1652\n",
      "Epoch 105/175\n",
      "412/412 [==============================] - 0s 999us/step - loss: 0.1696 - rmse: 0.1696\n",
      "Epoch 106/175\n",
      "412/412 [==============================] - 0s 1000us/step - loss: 0.1716 - rmse: 0.1715\n",
      "Epoch 107/175\n",
      "412/412 [==============================] - 0s 997us/step - loss: 0.1687 - rmse: 0.1688\n",
      "Epoch 108/175\n",
      "412/412 [==============================] - 0s 993us/step - loss: 0.1697 - rmse: 0.1696\n",
      "Epoch 109/175\n",
      "412/412 [==============================] - 0s 1ms/step - loss: 0.1706 - rmse: 0.1705\n",
      "Epoch 110/175\n",
      "412/412 [==============================] - 0s 990us/step - loss: 0.1705 - rmse: 0.1705\n",
      "Epoch 111/175\n",
      "412/412 [==============================] - 0s 978us/step - loss: 0.1651 - rmse: 0.1651\n",
      "Epoch 112/175\n",
      "412/412 [==============================] - 0s 1ms/step - loss: 0.1685 - rmse: 0.1685\n",
      "Epoch 113/175\n",
      "412/412 [==============================] - 0s 1ms/step - loss: 0.1683 - rmse: 0.1683\n",
      "Epoch 114/175\n",
      "412/412 [==============================] - 0s 1ms/step - loss: 0.1674 - rmse: 0.1674\n",
      "Epoch 115/175\n",
      "412/412 [==============================] - 0s 1ms/step - loss: 0.1661 - rmse: 0.1662\n",
      "Epoch 116/175\n",
      "412/412 [==============================] - 0s 1ms/step - loss: 0.1697 - rmse: 0.1697\n",
      "Epoch 117/175\n",
      "412/412 [==============================] - 0s 971us/step - loss: 0.1673 - rmse: 0.1673\n",
      "Epoch 118/175\n",
      "412/412 [==============================] - 0s 998us/step - loss: 0.1670 - rmse: 0.1670\n",
      "Epoch 119/175\n",
      "412/412 [==============================] - 0s 1ms/step - loss: 0.1645 - rmse: 0.1645\n",
      "Epoch 120/175\n",
      "412/412 [==============================] - 0s 997us/step - loss: 0.1676 - rmse: 0.1676\n",
      "Epoch 121/175\n",
      "412/412 [==============================] - 0s 997us/step - loss: 0.1655 - rmse: 0.1656\n",
      "Epoch 122/175\n",
      "412/412 [==============================] - 0s 1ms/step - loss: 0.1676 - rmse: 0.1676\n",
      "Epoch 123/175\n",
      "412/412 [==============================] - 0s 997us/step - loss: 0.1655 - rmse: 0.1654\n",
      "Epoch 124/175\n",
      "412/412 [==============================] - 0s 996us/step - loss: 0.1685 - rmse: 0.1684\n",
      "Epoch 125/175\n",
      "412/412 [==============================] - 0s 985us/step - loss: 0.1636 - rmse: 0.1635\n",
      "Epoch 126/175\n",
      "412/412 [==============================] - 0s 1ms/step - loss: 0.1648 - rmse: 0.1649\n",
      "Epoch 127/175\n",
      "412/412 [==============================] - 0s 1ms/step - loss: 0.1664 - rmse: 0.1663\n",
      "Epoch 128/175\n",
      "412/412 [==============================] - 0s 1ms/step - loss: 0.1634 - rmse: 0.1634\n",
      "Epoch 129/175\n",
      "412/412 [==============================] - 0s 1ms/step - loss: 0.1637 - rmse: 0.1637\n",
      "Epoch 130/175\n",
      "412/412 [==============================] - 0s 1ms/step - loss: 0.1651 - rmse: 0.1651\n",
      "Epoch 131/175\n",
      "412/412 [==============================] - 0s 1ms/step - loss: 0.1611 - rmse: 0.1611\n",
      "Epoch 132/175\n",
      "412/412 [==============================] - 0s 1ms/step - loss: 0.1646 - rmse: 0.1646\n",
      "Epoch 133/175\n",
      "412/412 [==============================] - 0s 988us/step - loss: 0.1616 - rmse: 0.1616\n",
      "Epoch 134/175\n",
      "412/412 [==============================] - 0s 987us/step - loss: 0.1633 - rmse: 0.1633\n",
      "Epoch 135/175\n",
      "412/412 [==============================] - 0s 980us/step - loss: 0.1657 - rmse: 0.1656\n",
      "Epoch 136/175\n",
      "412/412 [==============================] - 0s 1ms/step - loss: 0.1605 - rmse: 0.1605\n",
      "Epoch 137/175\n",
      "412/412 [==============================] - 0s 1ms/step - loss: 0.1623 - rmse: 0.1623\n",
      "Epoch 138/175\n",
      "412/412 [==============================] - 0s 1ms/step - loss: 0.1628 - rmse: 0.1629\n",
      "Epoch 139/175\n",
      "412/412 [==============================] - 0s 1ms/step - loss: 0.1633 - rmse: 0.1633\n",
      "Epoch 140/175\n",
      "412/412 [==============================] - 0s 1ms/step - loss: 0.1614 - rmse: 0.1614\n",
      "Epoch 141/175\n",
      "412/412 [==============================] - 0s 982us/step - loss: 0.1598 - rmse: 0.1598\n",
      "Epoch 142/175\n",
      "412/412 [==============================] - 0s 985us/step - loss: 0.1632 - rmse: 0.1632\n",
      "Epoch 143/175\n",
      "412/412 [==============================] - 0s 1ms/step - loss: 0.1606 - rmse: 0.1607\n",
      "Epoch 144/175\n",
      "412/412 [==============================] - 0s 1ms/step - loss: 0.1610 - rmse: 0.1610\n",
      "Epoch 145/175\n",
      "412/412 [==============================] - 0s 1ms/step - loss: 0.1610 - rmse: 0.1610\n",
      "Epoch 146/175\n",
      "412/412 [==============================] - 0s 1ms/step - loss: 0.1617 - rmse: 0.1617\n",
      "Epoch 147/175\n",
      "412/412 [==============================] - 0s 1ms/step - loss: 0.1637 - rmse: 0.1637\n",
      "Epoch 148/175\n",
      "412/412 [==============================] - 0s 1ms/step - loss: 0.1616 - rmse: 0.1616\n",
      "Epoch 149/175\n",
      "412/412 [==============================] - 0s 1ms/step - loss: 0.1607 - rmse: 0.1607\n",
      "Epoch 150/175\n",
      "412/412 [==============================] - 0s 1ms/step - loss: 0.1616 - rmse: 0.1616\n",
      "Epoch 151/175\n",
      "412/412 [==============================] - 0s 992us/step - loss: 0.1614 - rmse: 0.1613\n",
      "Epoch 152/175\n",
      "412/412 [==============================] - 0s 982us/step - loss: 0.1607 - rmse: 0.1607\n",
      "Epoch 153/175\n",
      "412/412 [==============================] - 0s 986us/step - loss: 0.1619 - rmse: 0.1619\n",
      "Epoch 154/175\n",
      "412/412 [==============================] - 0s 992us/step - loss: 0.1585 - rmse: 0.1585\n",
      "Epoch 155/175\n",
      "412/412 [==============================] - 0s 1ms/step - loss: 0.1591 - rmse: 0.1591\n",
      "Epoch 156/175\n",
      "412/412 [==============================] - 0s 1ms/step - loss: 0.1596 - rmse: 0.1596\n",
      "Epoch 157/175\n",
      "412/412 [==============================] - 0s 1ms/step - loss: 0.1623 - rmse: 0.1622\n",
      "Epoch 158/175\n",
      "412/412 [==============================] - 0s 995us/step - loss: 0.1629 - rmse: 0.1629\n",
      "Epoch 159/175\n",
      "412/412 [==============================] - 0s 983us/step - loss: 0.1591 - rmse: 0.1591\n",
      "Epoch 160/175\n",
      "412/412 [==============================] - 0s 991us/step - loss: 0.1606 - rmse: 0.1606\n",
      "Epoch 161/175\n",
      "412/412 [==============================] - 0s 1ms/step - loss: 0.1578 - rmse: 0.1579\n",
      "Epoch 162/175\n",
      "412/412 [==============================] - 0s 999us/step - loss: 0.1600 - rmse: 0.1600\n",
      "Epoch 163/175\n",
      "412/412 [==============================] - 0s 996us/step - loss: 0.1596 - rmse: 0.1596\n",
      "Epoch 164/175\n",
      "412/412 [==============================] - 0s 1ms/step - loss: 0.1609 - rmse: 0.1609\n",
      "Epoch 165/175\n",
      "412/412 [==============================] - 0s 1ms/step - loss: 0.1617 - rmse: 0.1617\n",
      "Epoch 166/175\n",
      "412/412 [==============================] - 0s 1ms/step - loss: 0.1603 - rmse: 0.1604\n",
      "Epoch 167/175\n",
      "412/412 [==============================] - 0s 1ms/step - loss: 0.1623 - rmse: 0.1623\n",
      "Epoch 168/175\n",
      "412/412 [==============================] - 0s 1ms/step - loss: 0.1562 - rmse: 0.1562\n",
      "Epoch 169/175\n",
      "412/412 [==============================] - 0s 1ms/step - loss: 0.1584 - rmse: 0.1584\n",
      "Epoch 170/175\n",
      "412/412 [==============================] - 0s 1ms/step - loss: 0.1572 - rmse: 0.1573\n",
      "Epoch 171/175\n",
      "412/412 [==============================] - 0s 1ms/step - loss: 0.1591 - rmse: 0.1591\n",
      "Epoch 172/175\n",
      "412/412 [==============================] - 0s 1ms/step - loss: 0.1595 - rmse: 0.1594\n",
      "Epoch 173/175\n",
      "412/412 [==============================] - 0s 1ms/step - loss: 0.1611 - rmse: 0.1611\n",
      "Epoch 174/175\n",
      "412/412 [==============================] - 0s 1ms/step - loss: 0.1570 - rmse: 0.1570\n",
      "Epoch 175/175\n",
      "412/412 [==============================] - 0s 1ms/step - loss: 0.1576 - rmse: 0.1576\n"
     ]
    },
    {
     "data": {
      "text/plain": [
       "<keras.callbacks.History at 0x24d35317fd0>"
      ]
     },
     "execution_count": 36,
     "metadata": {},
     "output_type": "execute_result"
    }
   ],
   "source": [
    "tf.random.set_seed(rs)\n",
    "\n",
    "model = Sequential([\n",
    "    Dense(256, activation='relu'),\n",
    "    Dense(256, activation='relu'),\n",
    "    Dense(128, activation='relu'),\n",
    "    Dense(1)\n",
    "])\n",
    "\n",
    "model.compile(\n",
    "    loss=rmse,\n",
    "    optimizer='Adam',\n",
    "    metrics=[rmse]\n",
    ")\n",
    "\n",
    "model.fit(X_train.toarray(), y_train, epochs=175)"
   ]
  },
  {
   "cell_type": "code",
   "execution_count": 60,
   "metadata": {},
   "outputs": [
    {
     "name": "stdout",
     "output_type": "stream",
     "text": [
      "The price of the car is 504905 rupees.\n",
      "The price of the car is 320905 rupees.\n",
      "The price of the car is 1925785 rupees.\n",
      "The price of the car is 1906858 rupees.\n",
      "The price of the car is 111775 rupees.\n"
     ]
    }
   ],
   "source": [
    "predictions1 = model.predict(X_test)\n",
    "e = np.random.randint(0, len(predictions1)-6)\n",
    "y = []\n",
    "for i in range(e, e+5):\n",
    "    y.append(np.expm1(predictions1[i]))\n",
    "for i in y:\n",
    "    print(\"The price of the car is \" + str(int(i)) + \" rupees.\")"
   ]
  },
  {
   "cell_type": "code",
   "execution_count": null,
   "metadata": {},
   "outputs": [],
   "source": []
  }
 ],
 "metadata": {
  "interpreter": {
   "hash": "b3ba2566441a7c06988d0923437866b63cedc61552a5af99d1f4fb67d367b25f"
  },
  "kernelspec": {
   "display_name": "Python 3.8.8 ('base')",
   "language": "python",
   "name": "python3"
  },
  "language_info": {
   "codemirror_mode": {
    "name": "ipython",
    "version": 3
   },
   "file_extension": ".py",
   "mimetype": "text/x-python",
   "name": "python",
   "nbconvert_exporter": "python",
   "pygments_lexer": "ipython3",
   "version": "3.9.12"
  },
  "orig_nbformat": 4
 },
 "nbformat": 4,
 "nbformat_minor": 2
}
